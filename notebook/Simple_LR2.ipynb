{
 "cells": [
  {
   "cell_type": "code",
   "execution_count": 152,
   "id": "524ee036-16d9-4356-a9dd-908b0554d6ae",
   "metadata": {},
   "outputs": [],
   "source": [
    "\n",
    "class MyLR:\n",
    "    \n",
    "    def __init__(self):\n",
    "        self.m = None\n",
    "        self.b = None\n",
    "        \n",
    "    def fit(self,X_train,y_train):\n",
    "        \n",
    "        num = 0\n",
    "        den = 0\n",
    "        \n",
    "        for i in range(X_train.shape[0]):\n",
    "            \n",
    "            num = num + ((X_train[i] - X_train.mean())*(y_train[i] - y_train.mean()))\n",
    "            den = den + ((X_train[i] - X_train.mean())*(X_train[i] - X_train.mean()))\n",
    "        \n",
    "        self.m = num/den\n",
    "        self.b = y_train.mean() - (self.m * X_train.mean())\n",
    "        print(self.m)\n",
    "        print(self.b)       \n",
    "    \n",
    "    def predict(self,X_test):\n",
    "        \n",
    "        print(X_test)\n",
    "        \n",
    "        return self.m * X_test + self.b\n",
    "    "
   ]
  },
  {
   "cell_type": "code",
   "execution_count": 1,
   "id": "2e88d240-0ac2-4398-84a8-1d9ae43d1670",
   "metadata": {},
   "outputs": [],
   "source": [
    "import pandas as pd\n",
    "import numpy as np\n",
    "import matplotlib.pyplot as plt\n",
    "import sklearn "
   ]
  },
  {
   "cell_type": "code",
   "execution_count": 2,
   "id": "4af3314f-472a-49fa-8929-85c1be04989f",
   "metadata": {},
   "outputs": [
    {
     "data": {
      "text/html": [
       "<div>\n",
       "<style scoped>\n",
       "    .dataframe tbody tr th:only-of-type {\n",
       "        vertical-align: middle;\n",
       "    }\n",
       "\n",
       "    .dataframe tbody tr th {\n",
       "        vertical-align: top;\n",
       "    }\n",
       "\n",
       "    .dataframe thead th {\n",
       "        text-align: right;\n",
       "    }\n",
       "</style>\n",
       "<table border=\"1\" class=\"dataframe\">\n",
       "  <thead>\n",
       "    <tr style=\"text-align: right;\">\n",
       "      <th></th>\n",
       "      <th>CGPA</th>\n",
       "      <th>Package (in Lakhs)</th>\n",
       "    </tr>\n",
       "  </thead>\n",
       "  <tbody>\n",
       "    <tr>\n",
       "      <th>0</th>\n",
       "      <td>6.25</td>\n",
       "      <td>13.91</td>\n",
       "    </tr>\n",
       "    <tr>\n",
       "      <th>1</th>\n",
       "      <td>9.70</td>\n",
       "      <td>4.43</td>\n",
       "    </tr>\n",
       "    <tr>\n",
       "      <th>2</th>\n",
       "      <td>8.39</td>\n",
       "      <td>5.75</td>\n",
       "    </tr>\n",
       "    <tr>\n",
       "      <th>3</th>\n",
       "      <td>7.59</td>\n",
       "      <td>18.28</td>\n",
       "    </tr>\n",
       "    <tr>\n",
       "      <th>4</th>\n",
       "      <td>4.94</td>\n",
       "      <td>13.31</td>\n",
       "    </tr>\n",
       "    <tr>\n",
       "      <th>...</th>\n",
       "      <td>...</td>\n",
       "      <td>...</td>\n",
       "    </tr>\n",
       "    <tr>\n",
       "      <th>195</th>\n",
       "      <td>6.10</td>\n",
       "      <td>18.82</td>\n",
       "    </tr>\n",
       "    <tr>\n",
       "      <th>196</th>\n",
       "      <td>8.36</td>\n",
       "      <td>17.59</td>\n",
       "    </tr>\n",
       "    <tr>\n",
       "      <th>197</th>\n",
       "      <td>9.38</td>\n",
       "      <td>10.29</td>\n",
       "    </tr>\n",
       "    <tr>\n",
       "      <th>198</th>\n",
       "      <td>9.32</td>\n",
       "      <td>15.76</td>\n",
       "    </tr>\n",
       "    <tr>\n",
       "      <th>199</th>\n",
       "      <td>8.68</td>\n",
       "      <td>15.83</td>\n",
       "    </tr>\n",
       "  </tbody>\n",
       "</table>\n",
       "<p>200 rows × 2 columns</p>\n",
       "</div>"
      ],
      "text/plain": [
       "     CGPA  Package (in Lakhs)\n",
       "0    6.25               13.91\n",
       "1    9.70                4.43\n",
       "2    8.39                5.75\n",
       "3    7.59               18.28\n",
       "4    4.94               13.31\n",
       "..    ...                 ...\n",
       "195  6.10               18.82\n",
       "196  8.36               17.59\n",
       "197  9.38               10.29\n",
       "198  9.32               15.76\n",
       "199  8.68               15.83\n",
       "\n",
       "[200 rows x 2 columns]"
      ]
     },
     "execution_count": 2,
     "metadata": {},
     "output_type": "execute_result"
    }
   ],
   "source": [
    "df=pd.read_csv('student_data.csv')\n",
    "df"
   ]
  },
  {
   "cell_type": "code",
   "execution_count": 102,
   "id": "fa890fc1-5ecc-40a9-95ce-865725c9c009",
   "metadata": {},
   "outputs": [],
   "source": [
    "x = df.iloc[:,0:1].values\n",
    "y = df.iloc[:,-1].values"
   ]
  },
  {
   "cell_type": "code",
   "execution_count": 106,
   "id": "11823e96-6781-405e-9641-75799218f0e3",
   "metadata": {},
   "outputs": [
    {
     "data": {
      "text/plain": [
       "array([[6.25],\n",
       "       [9.7 ],\n",
       "       [8.39],\n",
       "       [7.59],\n",
       "       [4.94],\n",
       "       [4.94],\n",
       "       [4.35],\n",
       "       [9.2 ],\n",
       "       [7.61],\n",
       "       [8.25],\n",
       "       [4.12],\n",
       "       [9.82],\n",
       "       [8.99],\n",
       "       [5.27],\n",
       "       [5.09],\n",
       "       [5.1 ],\n",
       "       [5.83],\n",
       "       [7.15],\n",
       "       [6.59],\n",
       "       [5.75],\n",
       "       [7.67],\n",
       "       [4.84],\n",
       "       [5.75],\n",
       "       [6.2 ],\n",
       "       [6.74],\n",
       "       [8.71],\n",
       "       [5.2 ],\n",
       "       [7.09],\n",
       "       [7.55],\n",
       "       [4.28],\n",
       "       [7.65],\n",
       "       [5.02],\n",
       "       [4.39],\n",
       "       [9.69],\n",
       "       [9.79],\n",
       "       [8.85],\n",
       "       [5.83],\n",
       "       [4.59],\n",
       "       [8.11],\n",
       "       [6.64],\n",
       "       [4.73],\n",
       "       [6.97],\n",
       "       [4.21],\n",
       "       [9.46],\n",
       "       [5.55],\n",
       "       [7.98],\n",
       "       [5.87],\n",
       "       [7.12],\n",
       "       [7.28],\n",
       "       [5.11],\n",
       "       [9.82],\n",
       "       [8.65],\n",
       "       [9.64],\n",
       "       [9.37],\n",
       "       [7.59],\n",
       "       [9.53],\n",
       "       [4.53],\n",
       "       [5.18],\n",
       "       [4.27],\n",
       "       [5.95],\n",
       "       [6.33],\n",
       "       [5.63],\n",
       "       [8.97],\n",
       "       [6.14],\n",
       "       [5.69],\n",
       "       [7.26],\n",
       "       [4.85],\n",
       "       [8.81],\n",
       "       [4.45],\n",
       "       [9.92],\n",
       "       [8.63],\n",
       "       [5.19],\n",
       "       [4.03],\n",
       "       [8.89],\n",
       "       [8.24],\n",
       "       [8.37],\n",
       "       [8.63],\n",
       "       [4.44],\n",
       "       [6.15],\n",
       "       [4.7 ],\n",
       "       [9.18],\n",
       "       [7.74],\n",
       "       [5.99],\n",
       "       [4.38],\n",
       "       [5.87],\n",
       "       [5.95],\n",
       "       [8.38],\n",
       "       [7.83],\n",
       "       [9.32],\n",
       "       [6.83],\n",
       "       [4.72],\n",
       "       [8.28],\n",
       "       [8.56],\n",
       "       [7.37],\n",
       "       [8.63],\n",
       "       [6.96],\n",
       "       [7.14],\n",
       "       [6.57],\n",
       "       [4.15],\n",
       "       [4.65],\n",
       "       [4.19],\n",
       "       [7.82],\n",
       "       [5.89],\n",
       "       [7.05],\n",
       "       [9.45],\n",
       "       [5.5 ],\n",
       "       [6.46],\n",
       "       [8.53],\n",
       "       [5.37],\n",
       "       [4.46],\n",
       "       [5.74],\n",
       "       [4.97],\n",
       "       [9.58],\n",
       "       [8.85],\n",
       "       [7.8 ],\n",
       "       [9.23],\n",
       "       [8.82],\n",
       "       [5.12],\n",
       "       [9.36],\n",
       "       [7.24],\n",
       "       [8.84],\n",
       "       [9.38],\n",
       "       [5.91],\n",
       "       [4.66],\n",
       "       [5.37],\n",
       "       [6.56],\n",
       "       [8.91],\n",
       "       [9.16],\n",
       "       [4.04],\n",
       "       [7.06],\n",
       "       [6.5 ],\n",
       "       [5.33],\n",
       "       [4.72],\n",
       "       [6.03],\n",
       "       [9.66],\n",
       "       [5.94],\n",
       "       [7.11],\n",
       "       [8.22],\n",
       "       [6.18],\n",
       "       [9.83],\n",
       "       [9.77],\n",
       "       [5.51],\n",
       "       [6.98],\n",
       "       [5.81],\n",
       "       [5.71],\n",
       "       [4.22],\n",
       "       [7.66],\n",
       "       [7.02],\n",
       "       [4.31],\n",
       "       [5.67],\n",
       "       [9.45],\n",
       "       [5.44],\n",
       "       [4.87],\n",
       "       [6.94],\n",
       "       [9.91],\n",
       "       [5.45],\n",
       "       [8.03],\n",
       "       [8.57],\n",
       "       [5.43],\n",
       "       [8.37],\n",
       "       [6.21],\n",
       "       [7.79],\n",
       "       [7.8 ],\n",
       "       [7.21],\n",
       "       [4.54],\n",
       "       [9.01],\n",
       "       [5.92],\n",
       "       [5.12],\n",
       "       [4.24],\n",
       "       [7.55],\n",
       "       [8.07],\n",
       "       [4.1 ],\n",
       "       [7.07],\n",
       "       [5.36],\n",
       "       [7.87],\n",
       "       [5.05],\n",
       "       [8.15],\n",
       "       [6.32],\n",
       "       [9.62],\n",
       "       [4.83],\n",
       "       [6.05],\n",
       "       [4.68],\n",
       "       [9.55],\n",
       "       [9.26],\n",
       "       [5.55],\n",
       "       [7.96],\n",
       "       [8.9 ],\n",
       "       [7.33],\n",
       "       [7.18],\n",
       "       [5.45],\n",
       "       [4.56],\n",
       "       [9.38],\n",
       "       [9.4 ],\n",
       "       [7.8 ],\n",
       "       [6.03],\n",
       "       [6.1 ],\n",
       "       [8.36],\n",
       "       [9.38],\n",
       "       [9.32],\n",
       "       [8.68]])"
      ]
     },
     "execution_count": 106,
     "metadata": {},
     "output_type": "execute_result"
    }
   ],
   "source": [
    "x"
   ]
  },
  {
   "cell_type": "code",
   "execution_count": 52,
   "id": "eb252fb9-45bf-43b1-8368-82c438d1f65b",
   "metadata": {},
   "outputs": [
    {
     "data": {
      "text/plain": [
       "array([13.91,  4.43,  5.75, 18.28, 13.31,  3.16,  4.73, 14.28,  3.09,\n",
       "        5.73, 12.33, 14.76, 14.08,  6.81, 15.11,  7.03,  8.53, 15.69,\n",
       "       14.04, 17.44, 14.18, 12.66,  4.59,  9.25,  7.51,  7.15, 19.54,\n",
       "        9.68, 18.16, 13.73, 16.51, 11.54, 12.81, 11.37,  6.32, 15.28,\n",
       "        7.77,  3.41, 13.97,  6.01, 18.99, 19.22, 18.55,  9.29,  3.26,\n",
       "       18.78, 10.28, 19.43, 19.38, 17.5 ,  8.01,  9.55, 17.47,  8.39,\n",
       "        5.88, 12.47, 18.91, 14.83, 12.69,  4.65, 13.46, 19.83,  5.38,\n",
       "       11.81, 17.92, 15.59, 14.85, 14.94,  9.11,  7.99, 16.76, 16.77,\n",
       "       17.74, 18.53, 11.69, 11.53, 16.57, 14.05, 14.93, 16.53, 18.13,\n",
       "        8.75,  9.38,  4.6 , 12.83,  3.61, 10.92, 12.22,  7.87, 13.04,\n",
       "        3.52,  3.63, 16.98,  9.12,  5.16, 11.88, 16.09,  6.67, 13.59,\n",
       "        4.45,  3.88, 12.03, 12.19, 13.84, 15.34, 19.59, 11.78,  8.49,\n",
       "       16.52,  7.6 , 10.46,  4.33,  3.43, 19.37, 17.21, 14.83,  9.95,\n",
       "        5.95,  5.66,  7.25, 12.34, 15.15, 14.22,  7.76, 19.23, 15.54,\n",
       "       12.42, 13.4 , 10.13,  7.21,  9.05, 15.88,  3.24,  4.97,  3.78,\n",
       "        3.69, 17.54, 14.96, 11.06,  4.66, 11.36, 11.05,  5.94, 10.38,\n",
       "        9.77, 13.47, 13.8 ,  3.77,  9.37, 13.64, 11.55, 17.56, 14.2 ,\n",
       "        5.77,  4.2 , 13.92,  3.45, 12.96, 18.98, 12.78,  9.6 , 13.94,\n",
       "       10.79, 12.28, 19.  ,  9.56, 19.34, 18.39,  6.33,  4.18,  4.71,\n",
       "        3.31,  4.61, 14.61,  4.21,  8.42, 17.36,  3.4 , 16.85,  7.79,\n",
       "        5.01, 14.84, 13.69, 17.92, 15.5 , 16.66,  7.79,  6.02, 15.76,\n",
       "       16.72, 19.84, 10.01,  9.32, 16.2 ,  8.79, 18.82, 17.59, 10.29,\n",
       "       15.76, 15.83])"
      ]
     },
     "execution_count": 52,
     "metadata": {},
     "output_type": "execute_result"
    }
   ],
   "source": [
    "y"
   ]
  },
  {
   "cell_type": "code",
   "execution_count": 128,
   "id": "8c2008a6-48c0-462a-90fd-aa3e60813f82",
   "metadata": {},
   "outputs": [],
   "source": [
    "\n",
    "from sklearn.model_selection import train_test_split\n",
    "X_train,X_test,y_train,y_test = train_test_split(X,y,test_size=0.2,random_state=2)\n"
   ]
  },
  {
   "cell_type": "code",
   "execution_count": 130,
   "id": "cb51ccca-7a2e-453e-940c-1546e3ea5fbf",
   "metadata": {},
   "outputs": [
    {
     "data": {
      "text/plain": [
       "(160, 1)"
      ]
     },
     "execution_count": 130,
     "metadata": {},
     "output_type": "execute_result"
    }
   ],
   "source": [
    "\n",
    "X_train.shape"
   ]
  },
  {
   "cell_type": "code",
   "execution_count": 154,
   "id": "d0a8e982-3cad-48ea-b1d2-636e9838cff5",
   "metadata": {},
   "outputs": [],
   "source": [
    "lr= MyLR()"
   ]
  },
  {
   "cell_type": "code",
   "execution_count": 158,
   "id": "612f5a20-d6c2-4929-82eb-918d33aedf92",
   "metadata": {},
   "outputs": [
    {
     "name": "stdout",
     "output_type": "stream",
     "text": [
      "[-0.11543895]\n",
      "[12.21155091]\n"
     ]
    }
   ],
   "source": [
    "\n",
    "lr.fit(X_train,y_train)"
   ]
  },
  {
   "cell_type": "code",
   "execution_count": 160,
   "id": "0b1d552e-1642-4975-b299-a4d7e2499371",
   "metadata": {},
   "outputs": [
    {
     "data": {
      "text/plain": [
       "160"
      ]
     },
     "execution_count": 160,
     "metadata": {},
     "output_type": "execute_result"
    }
   ],
   "source": [
    "\n",
    "X_train.shape[0]"
   ]
  },
  {
   "cell_type": "code",
   "execution_count": 162,
   "id": "340f0e46-d250-4dbb-8592-9fe2950926de",
   "metadata": {},
   "outputs": [
    {
     "data": {
      "text/plain": [
       "array([8.22])"
      ]
     },
     "execution_count": 162,
     "metadata": {},
     "output_type": "execute_result"
    }
   ],
   "source": [
    "\n",
    "X_train[0]"
   ]
  },
  {
   "cell_type": "code",
   "execution_count": 164,
   "id": "3a57b11b-a91e-4e1d-9179-41a7505e8a72",
   "metadata": {},
   "outputs": [
    {
     "data": {
      "text/plain": [
       "6.8216875"
      ]
     },
     "execution_count": 164,
     "metadata": {},
     "output_type": "execute_result"
    }
   ],
   "source": [
    "\n",
    "X_train.mean()"
   ]
  },
  {
   "cell_type": "code",
   "execution_count": 168,
   "id": "ec144ad0-582e-4e69-b643-4e0404e5f8c3",
   "metadata": {},
   "outputs": [
    {
     "data": {
      "text/plain": [
       "array([9.58])"
      ]
     },
     "execution_count": 168,
     "metadata": {},
     "output_type": "execute_result"
    }
   ],
   "source": [
    "\n",
    "X_test[0]"
   ]
  },
  {
   "cell_type": "code",
   "execution_count": 170,
   "id": "9ab74ae4-6e0c-465d-84e9-9246b2655893",
   "metadata": {},
   "outputs": [
    {
     "name": "stdout",
     "output_type": "stream",
     "text": [
      "[9.58]\n",
      "[11.10564581]\n"
     ]
    }
   ],
   "source": [
    "print(lr.predict(X_test[0]))\n"
   ]
  },
  {
   "cell_type": "code",
   "execution_count": null,
   "id": "846bd013-5c2b-412b-bd3e-e09bedbc90c4",
   "metadata": {},
   "outputs": [],
   "source": []
  }
 ],
 "metadata": {
  "kernelspec": {
   "display_name": "Python 3 (ipykernel)",
   "language": "python",
   "name": "python3"
  },
  "language_info": {
   "codemirror_mode": {
    "name": "ipython",
    "version": 3
   },
   "file_extension": ".py",
   "mimetype": "text/x-python",
   "name": "python",
   "nbconvert_exporter": "python",
   "pygments_lexer": "ipython3",
   "version": "3.12.4"
  }
 },
 "nbformat": 4,
 "nbformat_minor": 5
}
